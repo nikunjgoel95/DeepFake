{
  "nbformat": 4,
  "nbformat_minor": 0,
  "metadata": {
    "colab": {
      "name": "DL_Project.ipynb",
      "provenance": []
    },
    "kernelspec": {
      "name": "python3",
      "display_name": "Python 3"
    },
    "accelerator": "GPU"
  },
  "cells": [
    {
      "cell_type": "code",
      "metadata": {
        "id": "kZ3zec8sGaDz",
        "colab_type": "code",
        "outputId": "bbd0cf13-8c55-4674-cfd4-3356b6fa45b5",
        "colab": {
          "base_uri": "https://localhost:8080/",
          "height": 121
        }
      },
      "source": [
        "from google.colab import drive\n",
        "drive.mount('/content/drive')"
      ],
      "execution_count": 0,
      "outputs": [
        {
          "output_type": "stream",
          "text": [
            "Go to this URL in a browser: https://accounts.google.com/o/oauth2/auth?client_id=947318989803-6bn6qk8qdgf4n4g3pfee6491hc0brc4i.apps.googleusercontent.com&redirect_uri=urn%3aietf%3awg%3aoauth%3a2.0%3aoob&response_type=code&scope=email%20https%3a%2f%2fwww.googleapis.com%2fauth%2fdocs.test%20https%3a%2f%2fwww.googleapis.com%2fauth%2fdrive%20https%3a%2f%2fwww.googleapis.com%2fauth%2fdrive.photos.readonly%20https%3a%2f%2fwww.googleapis.com%2fauth%2fpeopleapi.readonly\n",
            "\n",
            "Enter your authorization code:\n",
            "··········\n",
            "Mounted at /content/drive\n"
          ],
          "name": "stdout"
        }
      ]
    },
    {
      "cell_type": "code",
      "metadata": {
        "id": "DlrvMZ-cTNhq",
        "colab_type": "code",
        "colab": {}
      },
      "source": [
        "import numpy as np\n",
        "import pandas as pd"
      ],
      "execution_count": 0,
      "outputs": []
    },
    {
      "cell_type": "code",
      "metadata": {
        "id": "3w8lWcuHJHSi",
        "colab_type": "code",
        "colab": {}
      },
      "source": [
        "metadata_df = pd.read_json('/content/drive/My Drive/DLProject/dfdc_train/dfdc_train_part_1/metadata.json', orient='index')"
      ],
      "execution_count": 0,
      "outputs": []
    },
    {
      "cell_type": "code",
      "metadata": {
        "id": "zhJonRmoND5u",
        "colab_type": "code",
        "colab": {}
      },
      "source": [
        "metadata_df = metadata_df.reset_index()\n",
        "metadata_df = metadata_df.rename(columns={\"index\": \"filename\"})"
      ],
      "execution_count": 0,
      "outputs": []
    },
    {
      "cell_type": "code",
      "metadata": {
        "id": "i5D_K2gbO87H",
        "colab_type": "code",
        "outputId": "5a2cc761-4db9-4256-9141-6591d3ca77d5",
        "colab": {
          "base_uri": "https://localhost:8080/",
          "height": 402
        }
      },
      "source": [
        "metadata_df"
      ],
      "execution_count": 0,
      "outputs": [
        {
          "output_type": "execute_result",
          "data": {
            "text/html": [
              "<div>\n",
              "<style scoped>\n",
              "    .dataframe tbody tr th:only-of-type {\n",
              "        vertical-align: middle;\n",
              "    }\n",
              "\n",
              "    .dataframe tbody tr th {\n",
              "        vertical-align: top;\n",
              "    }\n",
              "\n",
              "    .dataframe thead th {\n",
              "        text-align: right;\n",
              "    }\n",
              "</style>\n",
              "<table border=\"1\" class=\"dataframe\">\n",
              "  <thead>\n",
              "    <tr style=\"text-align: right;\">\n",
              "      <th></th>\n",
              "      <th>filename</th>\n",
              "      <th>label</th>\n",
              "      <th>split</th>\n",
              "      <th>original</th>\n",
              "    </tr>\n",
              "  </thead>\n",
              "  <tbody>\n",
              "    <tr>\n",
              "      <th>0</th>\n",
              "      <td>zumqqvixhu.mp4</td>\n",
              "      <td>FAKE</td>\n",
              "      <td>train</td>\n",
              "      <td>hntguogkqd.mp4</td>\n",
              "    </tr>\n",
              "    <tr>\n",
              "      <th>1</th>\n",
              "      <td>utdlsqfykm.mp4</td>\n",
              "      <td>FAKE</td>\n",
              "      <td>train</td>\n",
              "      <td>nswtvttxre.mp4</td>\n",
              "    </tr>\n",
              "    <tr>\n",
              "      <th>2</th>\n",
              "      <td>mdfndlljvt.mp4</td>\n",
              "      <td>FAKE</td>\n",
              "      <td>train</td>\n",
              "      <td>ptkcmwnfjv.mp4</td>\n",
              "    </tr>\n",
              "    <tr>\n",
              "      <th>3</th>\n",
              "      <td>maktypgsfl.mp4</td>\n",
              "      <td>FAKE</td>\n",
              "      <td>train</td>\n",
              "      <td>objgwnmscm.mp4</td>\n",
              "    </tr>\n",
              "    <tr>\n",
              "      <th>4</th>\n",
              "      <td>pleqihjpif.mp4</td>\n",
              "      <td>FAKE</td>\n",
              "      <td>train</td>\n",
              "      <td>xrhqtmxlvx.mp4</td>\n",
              "    </tr>\n",
              "    <tr>\n",
              "      <th>...</th>\n",
              "      <td>...</td>\n",
              "      <td>...</td>\n",
              "      <td>...</td>\n",
              "      <td>...</td>\n",
              "    </tr>\n",
              "    <tr>\n",
              "      <th>1694</th>\n",
              "      <td>qjdtgggqym.mp4</td>\n",
              "      <td>REAL</td>\n",
              "      <td>train</td>\n",
              "      <td>NaN</td>\n",
              "    </tr>\n",
              "    <tr>\n",
              "      <th>1695</th>\n",
              "      <td>jzmzdispyo.mp4</td>\n",
              "      <td>REAL</td>\n",
              "      <td>train</td>\n",
              "      <td>NaN</td>\n",
              "    </tr>\n",
              "    <tr>\n",
              "      <th>1696</th>\n",
              "      <td>qeaxtxpvyq.mp4</td>\n",
              "      <td>FAKE</td>\n",
              "      <td>train</td>\n",
              "      <td>keioymnobc.mp4</td>\n",
              "    </tr>\n",
              "    <tr>\n",
              "      <th>1697</th>\n",
              "      <td>bfeewgzrbr.mp4</td>\n",
              "      <td>FAKE</td>\n",
              "      <td>train</td>\n",
              "      <td>qjdtgggqym.mp4</td>\n",
              "    </tr>\n",
              "    <tr>\n",
              "      <th>1698</th>\n",
              "      <td>tovxgyattq.mp4</td>\n",
              "      <td>FAKE</td>\n",
              "      <td>train</td>\n",
              "      <td>hjhdhumvod.mp4</td>\n",
              "    </tr>\n",
              "  </tbody>\n",
              "</table>\n",
              "<p>1699 rows × 4 columns</p>\n",
              "</div>"
            ],
            "text/plain": [
              "            filename label  split        original\n",
              "0     zumqqvixhu.mp4  FAKE  train  hntguogkqd.mp4\n",
              "1     utdlsqfykm.mp4  FAKE  train  nswtvttxre.mp4\n",
              "2     mdfndlljvt.mp4  FAKE  train  ptkcmwnfjv.mp4\n",
              "3     maktypgsfl.mp4  FAKE  train  objgwnmscm.mp4\n",
              "4     pleqihjpif.mp4  FAKE  train  xrhqtmxlvx.mp4\n",
              "...              ...   ...    ...             ...\n",
              "1694  qjdtgggqym.mp4  REAL  train             NaN\n",
              "1695  jzmzdispyo.mp4  REAL  train             NaN\n",
              "1696  qeaxtxpvyq.mp4  FAKE  train  keioymnobc.mp4\n",
              "1697  bfeewgzrbr.mp4  FAKE  train  qjdtgggqym.mp4\n",
              "1698  tovxgyattq.mp4  FAKE  train  hjhdhumvod.mp4\n",
              "\n",
              "[1699 rows x 4 columns]"
            ]
          },
          "metadata": {
            "tags": []
          },
          "execution_count": 97
        }
      ]
    },
    {
      "cell_type": "code",
      "metadata": {
        "id": "2f8fz6ZyS52a",
        "colab_type": "code",
        "colab": {}
      },
      "source": [
        "real_filename = np.load('/content/drive/My Drive/DLProject/train_dat_names_inception.npy')"
      ],
      "execution_count": 0,
      "outputs": []
    },
    {
      "cell_type": "code",
      "metadata": {
        "id": "WmJRVHsVTLIv",
        "colab_type": "code",
        "outputId": "bd66d31b-c19f-47c5-c807-98fbc891ab0a",
        "colab": {
          "base_uri": "https://localhost:8080/",
          "height": 50
        }
      },
      "source": [
        "real_filename"
      ],
      "execution_count": 0,
      "outputs": [
        {
          "output_type": "execute_result",
          "data": {
            "text/plain": [
              "array(['dvwpvqdflx.mp4', 'ercvulggxk.mp4', 'ghdicklvxv.mp4', ...,\n",
              "       'rrsnoipdrp.mp4', 'dtcjjbfosp.mp4', 'fkwucbqnot.mp4'], dtype='<U14')"
            ]
          },
          "metadata": {
            "tags": []
          },
          "execution_count": 99
        }
      ]
    },
    {
      "cell_type": "code",
      "metadata": {
        "id": "9vPBW7AsTUxT",
        "colab_type": "code",
        "colab": {}
      },
      "source": [
        "real_filename_df = pd.DataFrame(data=real_filename, columns=['filename'])"
      ],
      "execution_count": 0,
      "outputs": []
    },
    {
      "cell_type": "code",
      "metadata": {
        "id": "z03Z8FmbTwU6",
        "colab_type": "code",
        "outputId": "501a415c-400b-4fa8-ab58-32b8edc4b70d",
        "colab": {
          "base_uri": "https://localhost:8080/",
          "height": 402
        }
      },
      "source": [
        "real_filename_df"
      ],
      "execution_count": 0,
      "outputs": [
        {
          "output_type": "execute_result",
          "data": {
            "text/html": [
              "<div>\n",
              "<style scoped>\n",
              "    .dataframe tbody tr th:only-of-type {\n",
              "        vertical-align: middle;\n",
              "    }\n",
              "\n",
              "    .dataframe tbody tr th {\n",
              "        vertical-align: top;\n",
              "    }\n",
              "\n",
              "    .dataframe thead th {\n",
              "        text-align: right;\n",
              "    }\n",
              "</style>\n",
              "<table border=\"1\" class=\"dataframe\">\n",
              "  <thead>\n",
              "    <tr style=\"text-align: right;\">\n",
              "      <th></th>\n",
              "      <th>filename</th>\n",
              "    </tr>\n",
              "  </thead>\n",
              "  <tbody>\n",
              "    <tr>\n",
              "      <th>0</th>\n",
              "      <td>dvwpvqdflx.mp4</td>\n",
              "    </tr>\n",
              "    <tr>\n",
              "      <th>1</th>\n",
              "      <td>ercvulggxk.mp4</td>\n",
              "    </tr>\n",
              "    <tr>\n",
              "      <th>2</th>\n",
              "      <td>ghdicklvxv.mp4</td>\n",
              "    </tr>\n",
              "    <tr>\n",
              "      <th>3</th>\n",
              "      <td>xbctgvzitp.mp4</td>\n",
              "    </tr>\n",
              "    <tr>\n",
              "      <th>4</th>\n",
              "      <td>lweyqsgphu.mp4</td>\n",
              "    </tr>\n",
              "    <tr>\n",
              "      <th>...</th>\n",
              "      <td>...</td>\n",
              "    </tr>\n",
              "    <tr>\n",
              "      <th>1694</th>\n",
              "      <td>qvaxapfttc.mp4</td>\n",
              "    </tr>\n",
              "    <tr>\n",
              "      <th>1695</th>\n",
              "      <td>hnfssbkumw.mp4</td>\n",
              "    </tr>\n",
              "    <tr>\n",
              "      <th>1696</th>\n",
              "      <td>rrsnoipdrp.mp4</td>\n",
              "    </tr>\n",
              "    <tr>\n",
              "      <th>1697</th>\n",
              "      <td>dtcjjbfosp.mp4</td>\n",
              "    </tr>\n",
              "    <tr>\n",
              "      <th>1698</th>\n",
              "      <td>fkwucbqnot.mp4</td>\n",
              "    </tr>\n",
              "  </tbody>\n",
              "</table>\n",
              "<p>1699 rows × 1 columns</p>\n",
              "</div>"
            ],
            "text/plain": [
              "            filename\n",
              "0     dvwpvqdflx.mp4\n",
              "1     ercvulggxk.mp4\n",
              "2     ghdicklvxv.mp4\n",
              "3     xbctgvzitp.mp4\n",
              "4     lweyqsgphu.mp4\n",
              "...              ...\n",
              "1694  qvaxapfttc.mp4\n",
              "1695  hnfssbkumw.mp4\n",
              "1696  rrsnoipdrp.mp4\n",
              "1697  dtcjjbfosp.mp4\n",
              "1698  fkwucbqnot.mp4\n",
              "\n",
              "[1699 rows x 1 columns]"
            ]
          },
          "metadata": {
            "tags": []
          },
          "execution_count": 101
        }
      ]
    },
    {
      "cell_type": "code",
      "metadata": {
        "id": "GbpxZ21pQHaa",
        "colab_type": "code",
        "colab": {}
      },
      "source": [
        "ordered_meta = metadata_df.reindex(real_filename_df['filename'], axis=0)"
      ],
      "execution_count": 0,
      "outputs": []
    },
    {
      "cell_type": "code",
      "metadata": {
        "id": "G3yi_6buPyUJ",
        "colab_type": "code",
        "colab": {}
      },
      "source": [
        "ordered_meta = metadata_df[real_filename_df.columns]"
      ],
      "execution_count": 0,
      "outputs": []
    },
    {
      "cell_type": "code",
      "metadata": {
        "id": "DBcqKVQ0SjQ3",
        "colab_type": "code",
        "colab": {}
      },
      "source": [
        "ordered_meta = pd.merge(real_filename_df, metadata_df, left_on = ['filename'], right_on = ['filename'])"
      ],
      "execution_count": 0,
      "outputs": []
    },
    {
      "cell_type": "code",
      "metadata": {
        "id": "pjguS40OP3k6",
        "colab_type": "code",
        "outputId": "11981df7-c61d-46c6-e9d1-569f376ec3ac",
        "colab": {
          "base_uri": "https://localhost:8080/",
          "height": 67
        }
      },
      "source": [
        "ordered_meta['label'].value_counts()"
      ],
      "execution_count": 0,
      "outputs": [
        {
          "output_type": "execute_result",
          "data": {
            "text/plain": [
              "FAKE    1591\n",
              "REAL     108\n",
              "Name: label, dtype: int64"
            ]
          },
          "metadata": {
            "tags": []
          },
          "execution_count": 105
        }
      ]
    },
    {
      "cell_type": "code",
      "metadata": {
        "id": "77bJjl5hT-1b",
        "colab_type": "code",
        "outputId": "006eb4cf-ef65-4449-ab96-e1da13adbb83",
        "colab": {
          "base_uri": "https://localhost:8080/",
          "height": 34
        }
      },
      "source": [
        "ordered_meta.shape"
      ],
      "execution_count": 0,
      "outputs": [
        {
          "output_type": "execute_result",
          "data": {
            "text/plain": [
              "(1699, 4)"
            ]
          },
          "metadata": {
            "tags": []
          },
          "execution_count": 106
        }
      ]
    },
    {
      "cell_type": "code",
      "metadata": {
        "id": "TbbKFn2eTmvu",
        "colab_type": "code",
        "colab": {}
      },
      "source": [
        "def label_num(x):\n",
        "    if x=='REAL':\n",
        "        return 1\n",
        "    else:\n",
        "        return 0"
      ],
      "execution_count": 0,
      "outputs": []
    },
    {
      "cell_type": "code",
      "metadata": {
        "id": "hsHK4Sn2UrGC",
        "colab_type": "code",
        "colab": {}
      },
      "source": [
        "ordered_meta['label'] = ordered_meta['label'].apply(label_num)"
      ],
      "execution_count": 0,
      "outputs": []
    },
    {
      "cell_type": "code",
      "metadata": {
        "id": "fb4TsC8AU3oN",
        "colab_type": "code",
        "outputId": "574be0fc-d03f-4141-b40a-1adf84075c66",
        "colab": {
          "base_uri": "https://localhost:8080/",
          "height": 402
        }
      },
      "source": [
        "ordered_meta"
      ],
      "execution_count": 0,
      "outputs": [
        {
          "output_type": "execute_result",
          "data": {
            "text/html": [
              "<div>\n",
              "<style scoped>\n",
              "    .dataframe tbody tr th:only-of-type {\n",
              "        vertical-align: middle;\n",
              "    }\n",
              "\n",
              "    .dataframe tbody tr th {\n",
              "        vertical-align: top;\n",
              "    }\n",
              "\n",
              "    .dataframe thead th {\n",
              "        text-align: right;\n",
              "    }\n",
              "</style>\n",
              "<table border=\"1\" class=\"dataframe\">\n",
              "  <thead>\n",
              "    <tr style=\"text-align: right;\">\n",
              "      <th></th>\n",
              "      <th>filename</th>\n",
              "      <th>label</th>\n",
              "      <th>split</th>\n",
              "      <th>original</th>\n",
              "    </tr>\n",
              "  </thead>\n",
              "  <tbody>\n",
              "    <tr>\n",
              "      <th>0</th>\n",
              "      <td>dvwpvqdflx.mp4</td>\n",
              "      <td>1</td>\n",
              "      <td>train</td>\n",
              "      <td>NaN</td>\n",
              "    </tr>\n",
              "    <tr>\n",
              "      <th>1</th>\n",
              "      <td>ercvulggxk.mp4</td>\n",
              "      <td>0</td>\n",
              "      <td>train</td>\n",
              "      <td>yhylappzid.mp4</td>\n",
              "    </tr>\n",
              "    <tr>\n",
              "      <th>2</th>\n",
              "      <td>ghdicklvxv.mp4</td>\n",
              "      <td>0</td>\n",
              "      <td>train</td>\n",
              "      <td>yietrwuncf.mp4</td>\n",
              "    </tr>\n",
              "    <tr>\n",
              "      <th>3</th>\n",
              "      <td>xbctgvzitp.mp4</td>\n",
              "      <td>0</td>\n",
              "      <td>train</td>\n",
              "      <td>yhylappzid.mp4</td>\n",
              "    </tr>\n",
              "    <tr>\n",
              "      <th>4</th>\n",
              "      <td>lweyqsgphu.mp4</td>\n",
              "      <td>0</td>\n",
              "      <td>train</td>\n",
              "      <td>kpnakfmmlh.mp4</td>\n",
              "    </tr>\n",
              "    <tr>\n",
              "      <th>...</th>\n",
              "      <td>...</td>\n",
              "      <td>...</td>\n",
              "      <td>...</td>\n",
              "      <td>...</td>\n",
              "    </tr>\n",
              "    <tr>\n",
              "      <th>1694</th>\n",
              "      <td>qvaxapfttc.mp4</td>\n",
              "      <td>0</td>\n",
              "      <td>train</td>\n",
              "      <td>gzbagbdubm.mp4</td>\n",
              "    </tr>\n",
              "    <tr>\n",
              "      <th>1695</th>\n",
              "      <td>hnfssbkumw.mp4</td>\n",
              "      <td>0</td>\n",
              "      <td>train</td>\n",
              "      <td>orblnqzpra.mp4</td>\n",
              "    </tr>\n",
              "    <tr>\n",
              "      <th>1696</th>\n",
              "      <td>rrsnoipdrp.mp4</td>\n",
              "      <td>0</td>\n",
              "      <td>train</td>\n",
              "      <td>fneqiqpqvs.mp4</td>\n",
              "    </tr>\n",
              "    <tr>\n",
              "      <th>1697</th>\n",
              "      <td>dtcjjbfosp.mp4</td>\n",
              "      <td>0</td>\n",
              "      <td>train</td>\n",
              "      <td>ztyuiqrhdk.mp4</td>\n",
              "    </tr>\n",
              "    <tr>\n",
              "      <th>1698</th>\n",
              "      <td>fkwucbqnot.mp4</td>\n",
              "      <td>0</td>\n",
              "      <td>train</td>\n",
              "      <td>gsshxchgqv.mp4</td>\n",
              "    </tr>\n",
              "  </tbody>\n",
              "</table>\n",
              "<p>1699 rows × 4 columns</p>\n",
              "</div>"
            ],
            "text/plain": [
              "            filename  label  split        original\n",
              "0     dvwpvqdflx.mp4      1  train             NaN\n",
              "1     ercvulggxk.mp4      0  train  yhylappzid.mp4\n",
              "2     ghdicklvxv.mp4      0  train  yietrwuncf.mp4\n",
              "3     xbctgvzitp.mp4      0  train  yhylappzid.mp4\n",
              "4     lweyqsgphu.mp4      0  train  kpnakfmmlh.mp4\n",
              "...              ...    ...    ...             ...\n",
              "1694  qvaxapfttc.mp4      0  train  gzbagbdubm.mp4\n",
              "1695  hnfssbkumw.mp4      0  train  orblnqzpra.mp4\n",
              "1696  rrsnoipdrp.mp4      0  train  fneqiqpqvs.mp4\n",
              "1697  dtcjjbfosp.mp4      0  train  ztyuiqrhdk.mp4\n",
              "1698  fkwucbqnot.mp4      0  train  gsshxchgqv.mp4\n",
              "\n",
              "[1699 rows x 4 columns]"
            ]
          },
          "metadata": {
            "tags": []
          },
          "execution_count": 109
        }
      ]
    },
    {
      "cell_type": "code",
      "metadata": {
        "id": "F5_fnIopUMgO",
        "colab_type": "code",
        "colab": {}
      },
      "source": [
        "label = []\n",
        "for i in range(real_filename_df.shape[0]):\n",
        "  label.append(1)"
      ],
      "execution_count": 0,
      "outputs": []
    },
    {
      "cell_type": "code",
      "metadata": {
        "id": "Og1TdiM-WDED",
        "colab_type": "code",
        "outputId": "65c18d9b-bfd3-4381-baa3-9a700472b2c4",
        "colab": {
          "base_uri": "https://localhost:8080/",
          "height": 34
        }
      },
      "source": [
        "len(label)"
      ],
      "execution_count": 0,
      "outputs": [
        {
          "output_type": "execute_result",
          "data": {
            "text/plain": [
              "363"
            ]
          },
          "metadata": {
            "tags": []
          },
          "execution_count": 8
        }
      ]
    },
    {
      "cell_type": "code",
      "metadata": {
        "id": "42iUxAhoWICS",
        "colab_type": "code",
        "colab": {}
      },
      "source": [
        "real_filename_df['label'] = label"
      ],
      "execution_count": 0,
      "outputs": []
    },
    {
      "cell_type": "code",
      "metadata": {
        "id": "CMZl4OwwWPiA",
        "colab_type": "code",
        "outputId": "5bc9b551-a3ac-4c45-8df7-4323a503b2bf",
        "colab": {
          "base_uri": "https://localhost:8080/",
          "height": 195
        }
      },
      "source": [
        "real_filename_df.head()"
      ],
      "execution_count": 0,
      "outputs": [
        {
          "output_type": "execute_result",
          "data": {
            "text/html": [
              "<div>\n",
              "<style scoped>\n",
              "    .dataframe tbody tr th:only-of-type {\n",
              "        vertical-align: middle;\n",
              "    }\n",
              "\n",
              "    .dataframe tbody tr th {\n",
              "        vertical-align: top;\n",
              "    }\n",
              "\n",
              "    .dataframe thead th {\n",
              "        text-align: right;\n",
              "    }\n",
              "</style>\n",
              "<table border=\"1\" class=\"dataframe\">\n",
              "  <thead>\n",
              "    <tr style=\"text-align: right;\">\n",
              "      <th></th>\n",
              "      <th>filename</th>\n",
              "    </tr>\n",
              "  </thead>\n",
              "  <tbody>\n",
              "    <tr>\n",
              "      <th>0</th>\n",
              "      <td>lygflrvsau.mp4</td>\n",
              "    </tr>\n",
              "    <tr>\n",
              "      <th>1</th>\n",
              "      <td>eupisnxhsb.mp4</td>\n",
              "    </tr>\n",
              "    <tr>\n",
              "      <th>2</th>\n",
              "      <td>lurzowfubv.mp4</td>\n",
              "    </tr>\n",
              "    <tr>\n",
              "      <th>3</th>\n",
              "      <td>lpsjuvtlbq.mp4</td>\n",
              "    </tr>\n",
              "    <tr>\n",
              "      <th>4</th>\n",
              "      <td>lklfngotia.mp4</td>\n",
              "    </tr>\n",
              "  </tbody>\n",
              "</table>\n",
              "</div>"
            ],
            "text/plain": [
              "         filename\n",
              "0  lygflrvsau.mp4\n",
              "1  eupisnxhsb.mp4\n",
              "2  lurzowfubv.mp4\n",
              "3  lpsjuvtlbq.mp4\n",
              "4  lklfngotia.mp4"
            ]
          },
          "metadata": {
            "tags": []
          },
          "execution_count": 23
        }
      ]
    },
    {
      "cell_type": "code",
      "metadata": {
        "id": "nbxYb_MlWRwZ",
        "colab_type": "code",
        "colab": {}
      },
      "source": [
        "fake_filename = np.load('/content/drive/My Drive/DLProject/fake_vid_names_resnet101.npy')"
      ],
      "execution_count": 0,
      "outputs": []
    },
    {
      "cell_type": "code",
      "metadata": {
        "id": "Wj2LRBZGWita",
        "colab_type": "code",
        "colab": {}
      },
      "source": [
        "fake_filename_df = pd.DataFrame(data=fake_filename, columns=['filename'])"
      ],
      "execution_count": 0,
      "outputs": []
    },
    {
      "cell_type": "code",
      "metadata": {
        "id": "mgSGMfcpWroH",
        "colab_type": "code",
        "colab": {}
      },
      "source": [
        "label = []\n",
        "for i in range(fake_filename_df.shape[0]):\n",
        "  label.append(0)"
      ],
      "execution_count": 0,
      "outputs": []
    },
    {
      "cell_type": "code",
      "metadata": {
        "id": "MCFr9zynWxcG",
        "colab_type": "code",
        "colab": {}
      },
      "source": [
        "fake_filename_df['label'] = label"
      ],
      "execution_count": 0,
      "outputs": []
    },
    {
      "cell_type": "code",
      "metadata": {
        "id": "JJLWPbqfW1Of",
        "colab_type": "code",
        "outputId": "9c87befc-6208-47c3-83e5-7668de6c2ef0",
        "colab": {
          "base_uri": "https://localhost:8080/",
          "height": 195
        }
      },
      "source": [
        "fake_filename_df.head()"
      ],
      "execution_count": 0,
      "outputs": [
        {
          "output_type": "execute_result",
          "data": {
            "text/html": [
              "<div>\n",
              "<style scoped>\n",
              "    .dataframe tbody tr th:only-of-type {\n",
              "        vertical-align: middle;\n",
              "    }\n",
              "\n",
              "    .dataframe tbody tr th {\n",
              "        vertical-align: top;\n",
              "    }\n",
              "\n",
              "    .dataframe thead th {\n",
              "        text-align: right;\n",
              "    }\n",
              "</style>\n",
              "<table border=\"1\" class=\"dataframe\">\n",
              "  <thead>\n",
              "    <tr style=\"text-align: right;\">\n",
              "      <th></th>\n",
              "      <th>filename</th>\n",
              "      <th>label</th>\n",
              "    </tr>\n",
              "  </thead>\n",
              "  <tbody>\n",
              "    <tr>\n",
              "      <th>0</th>\n",
              "      <td>13_20__walking_down_indoor_hall_disgust__EV1V4...</td>\n",
              "      <td>0</td>\n",
              "    </tr>\n",
              "    <tr>\n",
              "      <th>1</th>\n",
              "      <td>14_18__walking_and_outside_surprised__0YRBHIKG...</td>\n",
              "      <td>0</td>\n",
              "    </tr>\n",
              "    <tr>\n",
              "      <th>2</th>\n",
              "      <td>06_21__walking_and_outside_surprised__058I9NIZ...</td>\n",
              "      <td>0</td>\n",
              "    </tr>\n",
              "    <tr>\n",
              "      <th>3</th>\n",
              "      <td>21_18__outside_talking_pan_laughing__PQFTWVRQ.mp4</td>\n",
              "      <td>0</td>\n",
              "    </tr>\n",
              "    <tr>\n",
              "      <th>4</th>\n",
              "      <td>03_07__talking_against_wall__F0YYEA5W.mp4</td>\n",
              "      <td>0</td>\n",
              "    </tr>\n",
              "  </tbody>\n",
              "</table>\n",
              "</div>"
            ],
            "text/plain": [
              "                                            filename  label\n",
              "0  13_20__walking_down_indoor_hall_disgust__EV1V4...      0\n",
              "1  14_18__walking_and_outside_surprised__0YRBHIKG...      0\n",
              "2  06_21__walking_and_outside_surprised__058I9NIZ...      0\n",
              "3  21_18__outside_talking_pan_laughing__PQFTWVRQ.mp4      0\n",
              "4          03_07__talking_against_wall__F0YYEA5W.mp4      0"
            ]
          },
          "metadata": {
            "tags": []
          },
          "execution_count": 16
        }
      ]
    },
    {
      "cell_type": "code",
      "metadata": {
        "id": "4pE6FL6TW25e",
        "colab_type": "code",
        "outputId": "a76108d7-cb5c-4511-afb7-03a258e01e11",
        "colab": {
          "base_uri": "https://localhost:8080/",
          "height": 402
        }
      },
      "source": [
        "fake_filename_df"
      ],
      "execution_count": 0,
      "outputs": [
        {
          "output_type": "execute_result",
          "data": {
            "text/html": [
              "<div>\n",
              "<style scoped>\n",
              "    .dataframe tbody tr th:only-of-type {\n",
              "        vertical-align: middle;\n",
              "    }\n",
              "\n",
              "    .dataframe tbody tr th {\n",
              "        vertical-align: top;\n",
              "    }\n",
              "\n",
              "    .dataframe thead th {\n",
              "        text-align: right;\n",
              "    }\n",
              "</style>\n",
              "<table border=\"1\" class=\"dataframe\">\n",
              "  <thead>\n",
              "    <tr style=\"text-align: right;\">\n",
              "      <th></th>\n",
              "      <th>filename</th>\n",
              "      <th>label</th>\n",
              "    </tr>\n",
              "  </thead>\n",
              "  <tbody>\n",
              "    <tr>\n",
              "      <th>0</th>\n",
              "      <td>13_20__walking_down_indoor_hall_disgust__EV1V4...</td>\n",
              "      <td>0</td>\n",
              "    </tr>\n",
              "    <tr>\n",
              "      <th>1</th>\n",
              "      <td>14_18__walking_and_outside_surprised__0YRBHIKG...</td>\n",
              "      <td>0</td>\n",
              "    </tr>\n",
              "    <tr>\n",
              "      <th>2</th>\n",
              "      <td>06_21__walking_and_outside_surprised__058I9NIZ...</td>\n",
              "      <td>0</td>\n",
              "    </tr>\n",
              "    <tr>\n",
              "      <th>3</th>\n",
              "      <td>21_18__outside_talking_pan_laughing__PQFTWVRQ.mp4</td>\n",
              "      <td>0</td>\n",
              "    </tr>\n",
              "    <tr>\n",
              "      <th>4</th>\n",
              "      <td>03_07__talking_against_wall__F0YYEA5W.mp4</td>\n",
              "      <td>0</td>\n",
              "    </tr>\n",
              "    <tr>\n",
              "      <th>...</th>\n",
              "      <td>...</td>\n",
              "      <td>...</td>\n",
              "    </tr>\n",
              "    <tr>\n",
              "      <th>400</th>\n",
              "      <td>03_06__podium_speech_happy__83ABVHC3.mp4</td>\n",
              "      <td>0</td>\n",
              "    </tr>\n",
              "    <tr>\n",
              "      <th>401</th>\n",
              "      <td>12_04__walking_and_outside_surprised__96TQKDFJ...</td>\n",
              "      <td>0</td>\n",
              "    </tr>\n",
              "    <tr>\n",
              "      <th>402</th>\n",
              "      <td>09_21__walking_down_street_outside_angry__JEEL...</td>\n",
              "      <td>0</td>\n",
              "    </tr>\n",
              "    <tr>\n",
              "      <th>403</th>\n",
              "      <td>07_11__exit_phone_room__PGC20QSY.mp4</td>\n",
              "      <td>0</td>\n",
              "    </tr>\n",
              "    <tr>\n",
              "      <th>404</th>\n",
              "      <td>18_27__walk_down_hall_angry__NYHE8D0J.mp4</td>\n",
              "      <td>0</td>\n",
              "    </tr>\n",
              "  </tbody>\n",
              "</table>\n",
              "<p>405 rows × 2 columns</p>\n",
              "</div>"
            ],
            "text/plain": [
              "                                              filename  label\n",
              "0    13_20__walking_down_indoor_hall_disgust__EV1V4...      0\n",
              "1    14_18__walking_and_outside_surprised__0YRBHIKG...      0\n",
              "2    06_21__walking_and_outside_surprised__058I9NIZ...      0\n",
              "3    21_18__outside_talking_pan_laughing__PQFTWVRQ.mp4      0\n",
              "4            03_07__talking_against_wall__F0YYEA5W.mp4      0\n",
              "..                                                 ...    ...\n",
              "400           03_06__podium_speech_happy__83ABVHC3.mp4      0\n",
              "401  12_04__walking_and_outside_surprised__96TQKDFJ...      0\n",
              "402  09_21__walking_down_street_outside_angry__JEEL...      0\n",
              "403               07_11__exit_phone_room__PGC20QSY.mp4      0\n",
              "404          18_27__walk_down_hall_angry__NYHE8D0J.mp4      0\n",
              "\n",
              "[405 rows x 2 columns]"
            ]
          },
          "metadata": {
            "tags": []
          },
          "execution_count": 17
        }
      ]
    },
    {
      "cell_type": "code",
      "metadata": {
        "id": "FQ7Dw6IbZMyu",
        "colab_type": "code",
        "colab": {}
      },
      "source": [
        "fake_filename_df.set_index('filename', inplace=True)"
      ],
      "execution_count": 0,
      "outputs": []
    },
    {
      "cell_type": "code",
      "metadata": {
        "id": "j5uHsUCFbRGn",
        "colab_type": "code",
        "outputId": "74f86186-8b0a-47cb-afe0-c42989648f1b",
        "colab": {
          "base_uri": "https://localhost:8080/",
          "height": 225
        }
      },
      "source": [
        "fake_filename_df.head()"
      ],
      "execution_count": 0,
      "outputs": [
        {
          "output_type": "execute_result",
          "data": {
            "text/html": [
              "<div>\n",
              "<style scoped>\n",
              "    .dataframe tbody tr th:only-of-type {\n",
              "        vertical-align: middle;\n",
              "    }\n",
              "\n",
              "    .dataframe tbody tr th {\n",
              "        vertical-align: top;\n",
              "    }\n",
              "\n",
              "    .dataframe thead th {\n",
              "        text-align: right;\n",
              "    }\n",
              "</style>\n",
              "<table border=\"1\" class=\"dataframe\">\n",
              "  <thead>\n",
              "    <tr style=\"text-align: right;\">\n",
              "      <th></th>\n",
              "      <th>label</th>\n",
              "    </tr>\n",
              "    <tr>\n",
              "      <th>filename</th>\n",
              "      <th></th>\n",
              "    </tr>\n",
              "  </thead>\n",
              "  <tbody>\n",
              "    <tr>\n",
              "      <th>13_20__walking_down_indoor_hall_disgust__EV1V4ZQV.mp4</th>\n",
              "      <td>0</td>\n",
              "    </tr>\n",
              "    <tr>\n",
              "      <th>14_18__walking_and_outside_surprised__0YRBHIKG.mp4</th>\n",
              "      <td>0</td>\n",
              "    </tr>\n",
              "    <tr>\n",
              "      <th>06_21__walking_and_outside_surprised__058I9NIZ.mp4</th>\n",
              "      <td>0</td>\n",
              "    </tr>\n",
              "    <tr>\n",
              "      <th>21_18__outside_talking_pan_laughing__PQFTWVRQ.mp4</th>\n",
              "      <td>0</td>\n",
              "    </tr>\n",
              "    <tr>\n",
              "      <th>03_07__talking_against_wall__F0YYEA5W.mp4</th>\n",
              "      <td>0</td>\n",
              "    </tr>\n",
              "  </tbody>\n",
              "</table>\n",
              "</div>"
            ],
            "text/plain": [
              "                                                    label\n",
              "filename                                                 \n",
              "13_20__walking_down_indoor_hall_disgust__EV1V4Z...      0\n",
              "14_18__walking_and_outside_surprised__0YRBHIKG.mp4      0\n",
              "06_21__walking_and_outside_surprised__058I9NIZ.mp4      0\n",
              "21_18__outside_talking_pan_laughing__PQFTWVRQ.mp4       0\n",
              "03_07__talking_against_wall__F0YYEA5W.mp4               0"
            ]
          },
          "metadata": {
            "tags": []
          },
          "execution_count": 19
        }
      ]
    },
    {
      "cell_type": "code",
      "metadata": {
        "id": "8axccjoybvE6",
        "colab_type": "code",
        "colab": {}
      },
      "source": [
        "real_filename_df.set_index('filename', inplace=True)"
      ],
      "execution_count": 0,
      "outputs": []
    },
    {
      "cell_type": "code",
      "metadata": {
        "id": "xFagmobkb5t1",
        "colab_type": "code",
        "outputId": "ec652371-9c2d-43a9-b62f-d0970fabd8c3",
        "colab": {
          "base_uri": "https://localhost:8080/",
          "height": 225
        }
      },
      "source": [
        "real_filename_df.head()"
      ],
      "execution_count": 0,
      "outputs": [
        {
          "output_type": "execute_result",
          "data": {
            "text/html": [
              "<div>\n",
              "<style scoped>\n",
              "    .dataframe tbody tr th:only-of-type {\n",
              "        vertical-align: middle;\n",
              "    }\n",
              "\n",
              "    .dataframe tbody tr th {\n",
              "        vertical-align: top;\n",
              "    }\n",
              "\n",
              "    .dataframe thead th {\n",
              "        text-align: right;\n",
              "    }\n",
              "</style>\n",
              "<table border=\"1\" class=\"dataframe\">\n",
              "  <thead>\n",
              "    <tr style=\"text-align: right;\">\n",
              "      <th></th>\n",
              "      <th>label</th>\n",
              "    </tr>\n",
              "    <tr>\n",
              "      <th>filename</th>\n",
              "      <th></th>\n",
              "    </tr>\n",
              "  </thead>\n",
              "  <tbody>\n",
              "    <tr>\n",
              "      <th>07__exit_phone_room.mp4</th>\n",
              "      <td>1</td>\n",
              "    </tr>\n",
              "    <tr>\n",
              "      <th>09__kitchen_pan.mp4</th>\n",
              "      <td>1</td>\n",
              "    </tr>\n",
              "    <tr>\n",
              "      <th>02__walking_down_street_outside_angry.mp4</th>\n",
              "      <td>1</td>\n",
              "    </tr>\n",
              "    <tr>\n",
              "      <th>12__talking_angry_couch.mp4</th>\n",
              "      <td>1</td>\n",
              "    </tr>\n",
              "    <tr>\n",
              "      <th>11__podium_speech_happy.mp4</th>\n",
              "      <td>1</td>\n",
              "    </tr>\n",
              "  </tbody>\n",
              "</table>\n",
              "</div>"
            ],
            "text/plain": [
              "                                           label\n",
              "filename                                        \n",
              "07__exit_phone_room.mp4                        1\n",
              "09__kitchen_pan.mp4                            1\n",
              "02__walking_down_street_outside_angry.mp4      1\n",
              "12__talking_angry_couch.mp4                    1\n",
              "11__podium_speech_happy.mp4                    1"
            ]
          },
          "metadata": {
            "tags": []
          },
          "execution_count": 21
        }
      ]
    },
    {
      "cell_type": "code",
      "metadata": {
        "id": "cLZN4ONKb790",
        "colab_type": "code",
        "colab": {}
      },
      "source": [
        "all_files = real_filename_df.append(fake_filename_df)"
      ],
      "execution_count": 0,
      "outputs": []
    },
    {
      "cell_type": "code",
      "metadata": {
        "id": "sopzPLPvn6JV",
        "colab_type": "code",
        "outputId": "3e2f4e79-ec5f-49ee-c421-a238242c4904",
        "colab": {
          "base_uri": "https://localhost:8080/",
          "height": 431
        }
      },
      "source": [
        "all_files"
      ],
      "execution_count": 0,
      "outputs": [
        {
          "output_type": "execute_result",
          "data": {
            "text/html": [
              "<div>\n",
              "<style scoped>\n",
              "    .dataframe tbody tr th:only-of-type {\n",
              "        vertical-align: middle;\n",
              "    }\n",
              "\n",
              "    .dataframe tbody tr th {\n",
              "        vertical-align: top;\n",
              "    }\n",
              "\n",
              "    .dataframe thead th {\n",
              "        text-align: right;\n",
              "    }\n",
              "</style>\n",
              "<table border=\"1\" class=\"dataframe\">\n",
              "  <thead>\n",
              "    <tr style=\"text-align: right;\">\n",
              "      <th></th>\n",
              "      <th>label</th>\n",
              "    </tr>\n",
              "    <tr>\n",
              "      <th>filename</th>\n",
              "      <th></th>\n",
              "    </tr>\n",
              "  </thead>\n",
              "  <tbody>\n",
              "    <tr>\n",
              "      <th>07__exit_phone_room.mp4</th>\n",
              "      <td>1</td>\n",
              "    </tr>\n",
              "    <tr>\n",
              "      <th>09__kitchen_pan.mp4</th>\n",
              "      <td>1</td>\n",
              "    </tr>\n",
              "    <tr>\n",
              "      <th>02__walking_down_street_outside_angry.mp4</th>\n",
              "      <td>1</td>\n",
              "    </tr>\n",
              "    <tr>\n",
              "      <th>12__talking_angry_couch.mp4</th>\n",
              "      <td>1</td>\n",
              "    </tr>\n",
              "    <tr>\n",
              "      <th>11__podium_speech_happy.mp4</th>\n",
              "      <td>1</td>\n",
              "    </tr>\n",
              "    <tr>\n",
              "      <th>...</th>\n",
              "      <td>...</td>\n",
              "    </tr>\n",
              "    <tr>\n",
              "      <th>03_06__podium_speech_happy__83ABVHC3.mp4</th>\n",
              "      <td>0</td>\n",
              "    </tr>\n",
              "    <tr>\n",
              "      <th>12_04__walking_and_outside_surprised__96TQKDFJ.mp4</th>\n",
              "      <td>0</td>\n",
              "    </tr>\n",
              "    <tr>\n",
              "      <th>09_21__walking_down_street_outside_angry__JEELOMN2.mp4</th>\n",
              "      <td>0</td>\n",
              "    </tr>\n",
              "    <tr>\n",
              "      <th>07_11__exit_phone_room__PGC20QSY.mp4</th>\n",
              "      <td>0</td>\n",
              "    </tr>\n",
              "    <tr>\n",
              "      <th>18_27__walk_down_hall_angry__NYHE8D0J.mp4</th>\n",
              "      <td>0</td>\n",
              "    </tr>\n",
              "  </tbody>\n",
              "</table>\n",
              "<p>768 rows × 1 columns</p>\n",
              "</div>"
            ],
            "text/plain": [
              "                                                    label\n",
              "filename                                                 \n",
              "07__exit_phone_room.mp4                                 1\n",
              "09__kitchen_pan.mp4                                     1\n",
              "02__walking_down_street_outside_angry.mp4               1\n",
              "12__talking_angry_couch.mp4                             1\n",
              "11__podium_speech_happy.mp4                             1\n",
              "...                                                   ...\n",
              "03_06__podium_speech_happy__83ABVHC3.mp4                0\n",
              "12_04__walking_and_outside_surprised__96TQKDFJ.mp4      0\n",
              "09_21__walking_down_street_outside_angry__JEELO...      0\n",
              "07_11__exit_phone_room__PGC20QSY.mp4                    0\n",
              "18_27__walk_down_hall_angry__NYHE8D0J.mp4               0\n",
              "\n",
              "[768 rows x 1 columns]"
            ]
          },
          "metadata": {
            "tags": []
          },
          "execution_count": 23
        }
      ]
    },
    {
      "cell_type": "code",
      "metadata": {
        "id": "KJLTdfSvn7vP",
        "colab_type": "code",
        "colab": {}
      },
      "source": [
        "real_data = np.load('/content/drive/My Drive/DLProject/real_dat_resnet101.npy', allow_pickle=True)"
      ],
      "execution_count": 0,
      "outputs": []
    },
    {
      "cell_type": "code",
      "metadata": {
        "id": "0IEdlM70phPX",
        "colab_type": "code",
        "colab": {}
      },
      "source": [
        "fake_data = np.load('/content/drive/My Drive/DLProject/fake_dat_cleaned_resnet101.npy', allow_pickle=True)"
      ],
      "execution_count": 0,
      "outputs": []
    },
    {
      "cell_type": "code",
      "metadata": {
        "id": "1eVnstVZpyOH",
        "colab_type": "code",
        "outputId": "a378e364-825e-44cc-e8df-0921091d9ef8",
        "colab": {
          "base_uri": "https://localhost:8080/",
          "height": 34
        }
      },
      "source": [
        "real_data.shape"
      ],
      "execution_count": 0,
      "outputs": [
        {
          "output_type": "execute_result",
          "data": {
            "text/plain": [
              "(363,)"
            ]
          },
          "metadata": {
            "tags": []
          },
          "execution_count": 26
        }
      ]
    },
    {
      "cell_type": "code",
      "metadata": {
        "id": "F0MTWu7jp07G",
        "colab_type": "code",
        "outputId": "821182b1-da8e-4a24-b36f-8037e86ea195",
        "colab": {
          "base_uri": "https://localhost:8080/",
          "height": 34
        }
      },
      "source": [
        "real_data[0].shape"
      ],
      "execution_count": 0,
      "outputs": [
        {
          "output_type": "execute_result",
          "data": {
            "text/plain": [
              "torch.Size([106, 1000])"
            ]
          },
          "metadata": {
            "tags": []
          },
          "execution_count": 54
        }
      ]
    },
    {
      "cell_type": "code",
      "metadata": {
        "id": "nG-ihcCjqgdH",
        "colab_type": "code",
        "outputId": "0b2f1ac9-9352-4350-e847-d947f11f8d99",
        "colab": {
          "base_uri": "https://localhost:8080/",
          "height": 34
        }
      },
      "source": [
        "fake_data[0].shape"
      ],
      "execution_count": 0,
      "outputs": [
        {
          "output_type": "execute_result",
          "data": {
            "text/plain": [
              "torch.Size([496, 1000])"
            ]
          },
          "metadata": {
            "tags": []
          },
          "execution_count": 55
        }
      ]
    },
    {
      "cell_type": "code",
      "metadata": {
        "id": "wEh_mIG1qhtI",
        "colab_type": "code",
        "outputId": "529100fb-6779-4c86-a666-ac014ab5dea9",
        "colab": {
          "base_uri": "https://localhost:8080/",
          "height": 34
        }
      },
      "source": [
        "fake_data[0].shape"
      ],
      "execution_count": 0,
      "outputs": [
        {
          "output_type": "execute_result",
          "data": {
            "text/plain": [
              "torch.Size([496, 1000])"
            ]
          },
          "metadata": {
            "tags": []
          },
          "execution_count": 29
        }
      ]
    },
    {
      "cell_type": "code",
      "metadata": {
        "id": "sO8I_kpiqjto",
        "colab_type": "code",
        "colab": {}
      },
      "source": [
        "all_data = np.concatenate((real_data, fake_data))"
      ],
      "execution_count": 0,
      "outputs": []
    },
    {
      "cell_type": "code",
      "metadata": {
        "id": "wERZMYj6qvc1",
        "colab_type": "code",
        "outputId": "4457b10c-48f3-4858-f7f0-1a5c208300ee",
        "colab": {
          "base_uri": "https://localhost:8080/",
          "height": 34
        }
      },
      "source": [
        "all_data[0].shape"
      ],
      "execution_count": 0,
      "outputs": [
        {
          "output_type": "execute_result",
          "data": {
            "text/plain": [
              "torch.Size([106, 1000])"
            ]
          },
          "metadata": {
            "tags": []
          },
          "execution_count": 31
        }
      ]
    },
    {
      "cell_type": "code",
      "metadata": {
        "id": "APbckLJ2Lh9u",
        "colab_type": "code",
        "outputId": "5a5a1018-793d-4cc5-e8d8-372fb3a4a740",
        "colab": {
          "base_uri": "https://localhost:8080/",
          "height": 34
        }
      },
      "source": [
        "all_files['label'].tolist()[0]"
      ],
      "execution_count": 0,
      "outputs": [
        {
          "output_type": "execute_result",
          "data": {
            "text/plain": [
              "1"
            ]
          },
          "metadata": {
            "tags": []
          },
          "execution_count": 32
        }
      ]
    },
    {
      "cell_type": "code",
      "metadata": {
        "id": "sjhHlBD-qxlB",
        "colab_type": "code",
        "outputId": "c8ca92bd-2c65-4211-a686-e9910b2e644f",
        "colab": {
          "base_uri": "https://localhost:8080/",
          "height": 34
        }
      },
      "source": [
        "all_data[363].shape"
      ],
      "execution_count": 0,
      "outputs": [
        {
          "output_type": "execute_result",
          "data": {
            "text/plain": [
              "torch.Size([496, 1000])"
            ]
          },
          "metadata": {
            "tags": []
          },
          "execution_count": 33
        }
      ]
    },
    {
      "cell_type": "code",
      "metadata": {
        "id": "sLH-KBfbrSgN",
        "colab_type": "code",
        "outputId": "a95e14b0-131f-46ee-8b1b-770da276d029",
        "colab": {
          "base_uri": "https://localhost:8080/",
          "height": 34
        }
      },
      "source": [
        "all_files.values[0]"
      ],
      "execution_count": 0,
      "outputs": [
        {
          "output_type": "execute_result",
          "data": {
            "text/plain": [
              "array([1])"
            ]
          },
          "metadata": {
            "tags": []
          },
          "execution_count": 34
        }
      ]
    },
    {
      "cell_type": "code",
      "metadata": {
        "id": "46aPsV9-yTiw",
        "colab_type": "code",
        "outputId": "9e3a2cd6-7f34-4818-df80-3c0b101ee73f",
        "colab": {
          "base_uri": "https://localhost:8080/",
          "height": 1000
        }
      },
      "source": [
        "all_files['label'].tolist()"
      ],
      "execution_count": 0,
      "outputs": [
        {
          "output_type": "execute_result",
          "data": {
            "text/plain": [
              "[1,\n",
              " 1,\n",
              " 1,\n",
              " 1,\n",
              " 1,\n",
              " 1,\n",
              " 1,\n",
              " 1,\n",
              " 1,\n",
              " 1,\n",
              " 1,\n",
              " 1,\n",
              " 1,\n",
              " 1,\n",
              " 1,\n",
              " 1,\n",
              " 1,\n",
              " 1,\n",
              " 1,\n",
              " 1,\n",
              " 1,\n",
              " 1,\n",
              " 1,\n",
              " 1,\n",
              " 1,\n",
              " 1,\n",
              " 1,\n",
              " 1,\n",
              " 1,\n",
              " 1,\n",
              " 1,\n",
              " 1,\n",
              " 1,\n",
              " 1,\n",
              " 1,\n",
              " 1,\n",
              " 1,\n",
              " 1,\n",
              " 1,\n",
              " 1,\n",
              " 1,\n",
              " 1,\n",
              " 1,\n",
              " 1,\n",
              " 1,\n",
              " 1,\n",
              " 1,\n",
              " 1,\n",
              " 1,\n",
              " 1,\n",
              " 1,\n",
              " 1,\n",
              " 1,\n",
              " 1,\n",
              " 1,\n",
              " 1,\n",
              " 1,\n",
              " 1,\n",
              " 1,\n",
              " 1,\n",
              " 1,\n",
              " 1,\n",
              " 1,\n",
              " 1,\n",
              " 1,\n",
              " 1,\n",
              " 1,\n",
              " 1,\n",
              " 1,\n",
              " 1,\n",
              " 1,\n",
              " 1,\n",
              " 1,\n",
              " 1,\n",
              " 1,\n",
              " 1,\n",
              " 1,\n",
              " 1,\n",
              " 1,\n",
              " 1,\n",
              " 1,\n",
              " 1,\n",
              " 1,\n",
              " 1,\n",
              " 1,\n",
              " 1,\n",
              " 1,\n",
              " 1,\n",
              " 1,\n",
              " 1,\n",
              " 1,\n",
              " 1,\n",
              " 1,\n",
              " 1,\n",
              " 1,\n",
              " 1,\n",
              " 1,\n",
              " 1,\n",
              " 1,\n",
              " 1,\n",
              " 1,\n",
              " 1,\n",
              " 1,\n",
              " 1,\n",
              " 1,\n",
              " 1,\n",
              " 1,\n",
              " 1,\n",
              " 1,\n",
              " 1,\n",
              " 1,\n",
              " 1,\n",
              " 1,\n",
              " 1,\n",
              " 1,\n",
              " 1,\n",
              " 1,\n",
              " 1,\n",
              " 1,\n",
              " 1,\n",
              " 1,\n",
              " 1,\n",
              " 1,\n",
              " 1,\n",
              " 1,\n",
              " 1,\n",
              " 1,\n",
              " 1,\n",
              " 1,\n",
              " 1,\n",
              " 1,\n",
              " 1,\n",
              " 1,\n",
              " 1,\n",
              " 1,\n",
              " 1,\n",
              " 1,\n",
              " 1,\n",
              " 1,\n",
              " 1,\n",
              " 1,\n",
              " 1,\n",
              " 1,\n",
              " 1,\n",
              " 1,\n",
              " 1,\n",
              " 1,\n",
              " 1,\n",
              " 1,\n",
              " 1,\n",
              " 1,\n",
              " 1,\n",
              " 1,\n",
              " 1,\n",
              " 1,\n",
              " 1,\n",
              " 1,\n",
              " 1,\n",
              " 1,\n",
              " 1,\n",
              " 1,\n",
              " 1,\n",
              " 1,\n",
              " 1,\n",
              " 1,\n",
              " 1,\n",
              " 1,\n",
              " 1,\n",
              " 1,\n",
              " 1,\n",
              " 1,\n",
              " 1,\n",
              " 1,\n",
              " 1,\n",
              " 1,\n",
              " 1,\n",
              " 1,\n",
              " 1,\n",
              " 1,\n",
              " 1,\n",
              " 1,\n",
              " 1,\n",
              " 1,\n",
              " 1,\n",
              " 1,\n",
              " 1,\n",
              " 1,\n",
              " 1,\n",
              " 1,\n",
              " 1,\n",
              " 1,\n",
              " 1,\n",
              " 1,\n",
              " 1,\n",
              " 1,\n",
              " 1,\n",
              " 1,\n",
              " 1,\n",
              " 1,\n",
              " 1,\n",
              " 1,\n",
              " 1,\n",
              " 1,\n",
              " 1,\n",
              " 1,\n",
              " 1,\n",
              " 1,\n",
              " 1,\n",
              " 1,\n",
              " 1,\n",
              " 1,\n",
              " 1,\n",
              " 1,\n",
              " 1,\n",
              " 1,\n",
              " 1,\n",
              " 1,\n",
              " 1,\n",
              " 1,\n",
              " 1,\n",
              " 1,\n",
              " 1,\n",
              " 1,\n",
              " 1,\n",
              " 1,\n",
              " 1,\n",
              " 1,\n",
              " 1,\n",
              " 1,\n",
              " 1,\n",
              " 1,\n",
              " 1,\n",
              " 1,\n",
              " 1,\n",
              " 1,\n",
              " 1,\n",
              " 1,\n",
              " 1,\n",
              " 1,\n",
              " 1,\n",
              " 1,\n",
              " 1,\n",
              " 1,\n",
              " 1,\n",
              " 1,\n",
              " 1,\n",
              " 1,\n",
              " 1,\n",
              " 1,\n",
              " 1,\n",
              " 1,\n",
              " 1,\n",
              " 1,\n",
              " 1,\n",
              " 1,\n",
              " 1,\n",
              " 1,\n",
              " 1,\n",
              " 1,\n",
              " 1,\n",
              " 1,\n",
              " 1,\n",
              " 1,\n",
              " 1,\n",
              " 1,\n",
              " 1,\n",
              " 1,\n",
              " 1,\n",
              " 1,\n",
              " 1,\n",
              " 1,\n",
              " 1,\n",
              " 1,\n",
              " 1,\n",
              " 1,\n",
              " 1,\n",
              " 1,\n",
              " 1,\n",
              " 1,\n",
              " 1,\n",
              " 1,\n",
              " 1,\n",
              " 1,\n",
              " 1,\n",
              " 1,\n",
              " 1,\n",
              " 1,\n",
              " 1,\n",
              " 1,\n",
              " 1,\n",
              " 1,\n",
              " 1,\n",
              " 1,\n",
              " 1,\n",
              " 1,\n",
              " 1,\n",
              " 1,\n",
              " 1,\n",
              " 1,\n",
              " 1,\n",
              " 1,\n",
              " 1,\n",
              " 1,\n",
              " 1,\n",
              " 1,\n",
              " 1,\n",
              " 1,\n",
              " 1,\n",
              " 1,\n",
              " 1,\n",
              " 1,\n",
              " 1,\n",
              " 1,\n",
              " 1,\n",
              " 1,\n",
              " 1,\n",
              " 1,\n",
              " 1,\n",
              " 1,\n",
              " 1,\n",
              " 1,\n",
              " 1,\n",
              " 1,\n",
              " 1,\n",
              " 1,\n",
              " 1,\n",
              " 1,\n",
              " 1,\n",
              " 1,\n",
              " 1,\n",
              " 1,\n",
              " 1,\n",
              " 1,\n",
              " 1,\n",
              " 1,\n",
              " 1,\n",
              " 1,\n",
              " 1,\n",
              " 1,\n",
              " 1,\n",
              " 1,\n",
              " 1,\n",
              " 1,\n",
              " 1,\n",
              " 1,\n",
              " 1,\n",
              " 1,\n",
              " 1,\n",
              " 1,\n",
              " 1,\n",
              " 1,\n",
              " 1,\n",
              " 1,\n",
              " 1,\n",
              " 1,\n",
              " 1,\n",
              " 1,\n",
              " 1,\n",
              " 1,\n",
              " 1,\n",
              " 1,\n",
              " 1,\n",
              " 1,\n",
              " 0,\n",
              " 0,\n",
              " 0,\n",
              " 0,\n",
              " 0,\n",
              " 0,\n",
              " 0,\n",
              " 0,\n",
              " 0,\n",
              " 0,\n",
              " 0,\n",
              " 0,\n",
              " 0,\n",
              " 0,\n",
              " 0,\n",
              " 0,\n",
              " 0,\n",
              " 0,\n",
              " 0,\n",
              " 0,\n",
              " 0,\n",
              " 0,\n",
              " 0,\n",
              " 0,\n",
              " 0,\n",
              " 0,\n",
              " 0,\n",
              " 0,\n",
              " 0,\n",
              " 0,\n",
              " 0,\n",
              " 0,\n",
              " 0,\n",
              " 0,\n",
              " 0,\n",
              " 0,\n",
              " 0,\n",
              " 0,\n",
              " 0,\n",
              " 0,\n",
              " 0,\n",
              " 0,\n",
              " 0,\n",
              " 0,\n",
              " 0,\n",
              " 0,\n",
              " 0,\n",
              " 0,\n",
              " 0,\n",
              " 0,\n",
              " 0,\n",
              " 0,\n",
              " 0,\n",
              " 0,\n",
              " 0,\n",
              " 0,\n",
              " 0,\n",
              " 0,\n",
              " 0,\n",
              " 0,\n",
              " 0,\n",
              " 0,\n",
              " 0,\n",
              " 0,\n",
              " 0,\n",
              " 0,\n",
              " 0,\n",
              " 0,\n",
              " 0,\n",
              " 0,\n",
              " 0,\n",
              " 0,\n",
              " 0,\n",
              " 0,\n",
              " 0,\n",
              " 0,\n",
              " 0,\n",
              " 0,\n",
              " 0,\n",
              " 0,\n",
              " 0,\n",
              " 0,\n",
              " 0,\n",
              " 0,\n",
              " 0,\n",
              " 0,\n",
              " 0,\n",
              " 0,\n",
              " 0,\n",
              " 0,\n",
              " 0,\n",
              " 0,\n",
              " 0,\n",
              " 0,\n",
              " 0,\n",
              " 0,\n",
              " 0,\n",
              " 0,\n",
              " 0,\n",
              " 0,\n",
              " 0,\n",
              " 0,\n",
              " 0,\n",
              " 0,\n",
              " 0,\n",
              " 0,\n",
              " 0,\n",
              " 0,\n",
              " 0,\n",
              " 0,\n",
              " 0,\n",
              " 0,\n",
              " 0,\n",
              " 0,\n",
              " 0,\n",
              " 0,\n",
              " 0,\n",
              " 0,\n",
              " 0,\n",
              " 0,\n",
              " 0,\n",
              " 0,\n",
              " 0,\n",
              " 0,\n",
              " 0,\n",
              " 0,\n",
              " 0,\n",
              " 0,\n",
              " 0,\n",
              " 0,\n",
              " 0,\n",
              " 0,\n",
              " 0,\n",
              " 0,\n",
              " 0,\n",
              " 0,\n",
              " 0,\n",
              " 0,\n",
              " 0,\n",
              " 0,\n",
              " 0,\n",
              " 0,\n",
              " 0,\n",
              " 0,\n",
              " 0,\n",
              " 0,\n",
              " 0,\n",
              " 0,\n",
              " 0,\n",
              " 0,\n",
              " 0,\n",
              " 0,\n",
              " 0,\n",
              " 0,\n",
              " 0,\n",
              " 0,\n",
              " 0,\n",
              " 0,\n",
              " 0,\n",
              " 0,\n",
              " 0,\n",
              " 0,\n",
              " 0,\n",
              " 0,\n",
              " 0,\n",
              " 0,\n",
              " 0,\n",
              " 0,\n",
              " 0,\n",
              " 0,\n",
              " 0,\n",
              " 0,\n",
              " 0,\n",
              " 0,\n",
              " 0,\n",
              " 0,\n",
              " 0,\n",
              " 0,\n",
              " 0,\n",
              " 0,\n",
              " 0,\n",
              " 0,\n",
              " 0,\n",
              " 0,\n",
              " 0,\n",
              " 0,\n",
              " 0,\n",
              " 0,\n",
              " 0,\n",
              " 0,\n",
              " 0,\n",
              " 0,\n",
              " 0,\n",
              " 0,\n",
              " 0,\n",
              " 0,\n",
              " 0,\n",
              " 0,\n",
              " 0,\n",
              " 0,\n",
              " 0,\n",
              " 0,\n",
              " 0,\n",
              " 0,\n",
              " 0,\n",
              " 0,\n",
              " 0,\n",
              " 0,\n",
              " 0,\n",
              " 0,\n",
              " 0,\n",
              " 0,\n",
              " 0,\n",
              " 0,\n",
              " 0,\n",
              " 0,\n",
              " 0,\n",
              " 0,\n",
              " 0,\n",
              " 0,\n",
              " 0,\n",
              " 0,\n",
              " 0,\n",
              " 0,\n",
              " 0,\n",
              " 0,\n",
              " 0,\n",
              " 0,\n",
              " 0,\n",
              " 0,\n",
              " 0,\n",
              " 0,\n",
              " 0,\n",
              " 0,\n",
              " 0,\n",
              " 0,\n",
              " 0,\n",
              " 0,\n",
              " 0,\n",
              " 0,\n",
              " 0,\n",
              " 0,\n",
              " 0,\n",
              " 0,\n",
              " 0,\n",
              " 0,\n",
              " 0,\n",
              " 0,\n",
              " 0,\n",
              " 0,\n",
              " 0,\n",
              " 0,\n",
              " 0,\n",
              " 0,\n",
              " 0,\n",
              " 0,\n",
              " 0,\n",
              " 0,\n",
              " 0,\n",
              " 0,\n",
              " 0,\n",
              " 0,\n",
              " 0,\n",
              " 0,\n",
              " 0,\n",
              " 0,\n",
              " 0,\n",
              " 0,\n",
              " 0,\n",
              " 0,\n",
              " 0,\n",
              " 0,\n",
              " 0,\n",
              " 0,\n",
              " 0,\n",
              " 0,\n",
              " 0,\n",
              " 0,\n",
              " 0,\n",
              " 0,\n",
              " 0,\n",
              " 0,\n",
              " 0,\n",
              " 0,\n",
              " 0,\n",
              " 0,\n",
              " 0,\n",
              " 0,\n",
              " 0,\n",
              " 0,\n",
              " 0,\n",
              " 0,\n",
              " 0,\n",
              " 0,\n",
              " 0,\n",
              " 0,\n",
              " 0,\n",
              " 0,\n",
              " 0,\n",
              " 0,\n",
              " 0,\n",
              " 0,\n",
              " 0,\n",
              " 0,\n",
              " 0,\n",
              " 0,\n",
              " 0,\n",
              " 0,\n",
              " 0,\n",
              " 0,\n",
              " 0,\n",
              " 0,\n",
              " 0,\n",
              " 0,\n",
              " 0,\n",
              " 0,\n",
              " 0,\n",
              " 0,\n",
              " 0,\n",
              " 0,\n",
              " 0,\n",
              " 0,\n",
              " 0,\n",
              " 0,\n",
              " 0,\n",
              " 0,\n",
              " 0,\n",
              " 0,\n",
              " 0,\n",
              " 0,\n",
              " 0,\n",
              " 0,\n",
              " 0,\n",
              " 0,\n",
              " 0,\n",
              " 0,\n",
              " 0,\n",
              " 0,\n",
              " 0,\n",
              " 0,\n",
              " 0,\n",
              " 0,\n",
              " 0,\n",
              " 0,\n",
              " 0,\n",
              " 0,\n",
              " 0,\n",
              " 0,\n",
              " 0,\n",
              " 0,\n",
              " 0,\n",
              " 0,\n",
              " 0,\n",
              " 0,\n",
              " 0,\n",
              " 0,\n",
              " 0,\n",
              " 0,\n",
              " 0,\n",
              " 0,\n",
              " 0,\n",
              " 0,\n",
              " 0,\n",
              " 0,\n",
              " 0,\n",
              " 0,\n",
              " 0,\n",
              " 0,\n",
              " 0,\n",
              " 0,\n",
              " 0,\n",
              " 0,\n",
              " 0,\n",
              " 0,\n",
              " 0,\n",
              " 0,\n",
              " 0,\n",
              " 0,\n",
              " 0,\n",
              " 0,\n",
              " 0,\n",
              " 0,\n",
              " 0,\n",
              " 0,\n",
              " 0,\n",
              " 0,\n",
              " 0,\n",
              " 0,\n",
              " 0,\n",
              " 0,\n",
              " 0,\n",
              " 0,\n",
              " 0,\n",
              " 0,\n",
              " 0,\n",
              " 0,\n",
              " 0,\n",
              " 0,\n",
              " 0,\n",
              " 0,\n",
              " 0,\n",
              " 0,\n",
              " 0,\n",
              " 0,\n",
              " 0]"
            ]
          },
          "metadata": {
            "tags": []
          },
          "execution_count": 35
        }
      ]
    },
    {
      "cell_type": "code",
      "metadata": {
        "id": "4r600lLwB_wx",
        "colab_type": "code",
        "outputId": "c52b3de1-0e7b-4979-81c6-8485ff33e634",
        "colab": {
          "base_uri": "https://localhost:8080/",
          "height": 34
        }
      },
      "source": [
        "all_data[7].shape"
      ],
      "execution_count": 0,
      "outputs": [
        {
          "output_type": "execute_result",
          "data": {
            "text/plain": [
              "torch.Size([142, 1000])"
            ]
          },
          "metadata": {
            "tags": []
          },
          "execution_count": 36
        }
      ]
    },
    {
      "cell_type": "code",
      "metadata": {
        "id": "YvTgUveNVDx2",
        "colab_type": "code",
        "colab": {}
      },
      "source": [
        "all_data = np.load('/content/drive/My Drive/DLProject/train_dat_dfdc_inception.npy', allow_pickle=True)"
      ],
      "execution_count": 0,
      "outputs": []
    },
    {
      "cell_type": "code",
      "metadata": {
        "id": "eLzD54Ndw3r3",
        "colab_type": "code",
        "colab": {}
      },
      "source": [
        "label_dic = {'REAL':1, 'FAKE':0}"
      ],
      "execution_count": 0,
      "outputs": []
    },
    {
      "cell_type": "code",
      "metadata": {
        "id": "VO4spfov4_o2",
        "colab_type": "code",
        "colab": {}
      },
      "source": [
        "for i in range(len(all_data)):\n",
        "  all_data[i] = all_data[i].cpu()\n",
        "#all_data = all_data.cpu()"
      ],
      "execution_count": 0,
      "outputs": []
    },
    {
      "cell_type": "code",
      "metadata": {
        "id": "CsUxUjVxzMYE",
        "colab_type": "code",
        "colab": {}
      },
      "source": [
        "from sklearn.model_selection import train_test_split"
      ],
      "execution_count": 0,
      "outputs": []
    },
    {
      "cell_type": "code",
      "metadata": {
        "id": "g2ocGZjNzc5y",
        "colab_type": "code",
        "colab": {}
      },
      "source": [
        "x_train, x_val, y_train, y_val = train_test_split(all_data, ordered_meta['label'].to_numpy(), test_size=0.3, shuffle=True, random_state=1)"
      ],
      "execution_count": 0,
      "outputs": []
    },
    {
      "cell_type": "code",
      "metadata": {
        "id": "oTeE0VH90X2r",
        "colab_type": "code",
        "outputId": "d831066c-44b5-4301-ad3f-5aac6aea2c50",
        "colab": {
          "base_uri": "https://localhost:8080/",
          "height": 34
        }
      },
      "source": [
        "y_val.shape"
      ],
      "execution_count": 0,
      "outputs": [
        {
          "output_type": "execute_result",
          "data": {
            "text/plain": [
              "(510,)"
            ]
          },
          "metadata": {
            "tags": []
          },
          "execution_count": 115
        }
      ]
    },
    {
      "cell_type": "code",
      "metadata": {
        "id": "9aUL9wu2q16L",
        "colab_type": "code",
        "outputId": "020d0bd4-df83-4be4-ded3-19108ad053c7",
        "colab": {
          "base_uri": "https://localhost:8080/",
          "height": 34
        }
      },
      "source": [
        "import pdb\n",
        "import numpy as np\n",
        "import torch\n",
        "import sys\n",
        "import torch.nn as nn\n",
        "import torch.nn.functional as F\n",
        "import torch.optim as optim\n",
        "from torch.nn.utils.rnn import *\n",
        "import torch.nn.utils.rnn as rnn\n",
        "\n",
        "from torch.utils import data\n",
        "from torchvision import transforms\n",
        "\n",
        "import matplotlib.pyplot as plt\n",
        "import time\n",
        "\n",
        "cuda = torch.cuda.is_available()\n",
        "cuda"
      ],
      "execution_count": 0,
      "outputs": [
        {
          "output_type": "execute_result",
          "data": {
            "text/plain": [
              "True"
            ]
          },
          "metadata": {
            "tags": []
          },
          "execution_count": 116
        }
      ]
    },
    {
      "cell_type": "code",
      "metadata": {
        "id": "VQhX5l9irKvk",
        "colab_type": "code",
        "colab": {}
      },
      "source": [
        "def my_train_collate(batch):\n",
        "    # import pdb\n",
        "    # pdb.set_trace()\n",
        "    frames = [instance[0] for instance in batch]\n",
        "    labels = np.array([instance[1] for instance in batch])\n",
        "    #print(\"labels : \",labels)\n",
        "\n",
        "    frame_lengths = torch.LongTensor([len(frame) for frame in frames])\n",
        "    padded_frames = rnn.pad_sequence(frames, batch_first=True)\n",
        "    frame_lengths, permute_index = frame_lengths.sort(0, descending=True)\n",
        "    sorted_padded_frames = padded_frames[permute_index.data.numpy()]\n",
        "    # print(sorted_padded_frames)\n",
        "\n",
        "    sorted_labels = labels[permute_index.data.numpy()]\n",
        "    #print(\"sorted_labels : \", sorted_labels)\n",
        "    # sorted_frequency_lengths = torch.LongTensor([len(label) for label in sorted_labels])\n",
        "    #sorted_labels = [torch.IntTensor(label) for label in sorted_labels]\n",
        "    # sorted_labels = torch.FloatTensor(sorted_labels)\n",
        "    sorted_labels = torch.Tensor(sorted_labels)\n",
        "    #print(\"sorted_lables_tensor : \", sorted_labels)\n",
        "\n",
        "    _, unpermute_index = permute_index.sort(0)\n",
        "\n",
        "    return (sorted_padded_frames, sorted_labels, frame_lengths, unpermute_index)"
      ],
      "execution_count": 0,
      "outputs": []
    },
    {
      "cell_type": "code",
      "metadata": {
        "id": "nj8e_MPgq9W1",
        "colab_type": "code",
        "colab": {}
      },
      "source": [
        "#Training\n",
        "\n",
        "class MyDataset_train(data.Dataset):\n",
        "    def __init__(self, X, Y):\n",
        "        self.X = X\n",
        "        self.Y = Y\n",
        "\n",
        "    def __len__(self):\n",
        "        return len(self.X)\n",
        "\n",
        "    def __getitem__(self,index):\n",
        "        X = self.X[index]\n",
        "        Y = self.Y[index]\n",
        "        return X,Y"
      ],
      "execution_count": 0,
      "outputs": []
    },
    {
      "cell_type": "code",
      "metadata": {
        "id": "lVgc7PtJrHEH",
        "colab_type": "code",
        "colab": {}
      },
      "source": [
        "\n",
        "# Training\n",
        "train_dataset = MyDataset_train(x_train, y_train)\n",
        "# train_dataset = MyDataset_train(all_data, all_files['label'].to_numpy())\n",
        "\n",
        "train_loader_args = dict(shuffle=True, batch_size=32, num_workers=8, pin_memory=True) if cuda\\\n",
        "                    else dict(shuffle=True, batch_size=64)\n",
        "train_loader = data.DataLoader(train_dataset, **train_loader_args, collate_fn=my_train_collate)"
      ],
      "execution_count": 0,
      "outputs": []
    },
    {
      "cell_type": "code",
      "metadata": {
        "id": "vR4BMtOQ1tzf",
        "colab_type": "code",
        "colab": {}
      },
      "source": [
        "# Val\n",
        "\n",
        "val_dataset = MyDataset_train(x_val, y_val)\n",
        "# train_dataset = MyDataset_train(all_data, all_files['label'].to_numpy())\n",
        "\n",
        "val_loader_args = dict(shuffle=False, batch_size=32, num_workers=8, pin_memory=True) if cuda\\\n",
        "                    else dict(shuffle=True, batch_size=64)\n",
        "val_loader = data.DataLoader(val_dataset, **val_loader_args, collate_fn=my_train_collate)"
      ],
      "execution_count": 0,
      "outputs": []
    },
    {
      "cell_type": "code",
      "metadata": {
        "id": "fxoCQxRysTN7",
        "colab_type": "code",
        "outputId": "585c1a07-dd79-497c-e700-64045c02de50",
        "colab": {
          "base_uri": "https://localhost:8080/",
          "height": 101
        }
      },
      "source": [
        "for batch in train_loader:\n",
        "  sorted_padded_frames, sorted_labels, frame_lengths, unpermute_index = batch\n",
        "  #print('sorted_padded_frames:', sorted_padded_frames)\n",
        "  print(\"sorted padded  frames shape : \",sorted_padded_frames.shape)\n",
        "  print(\"type of : \",type(sorted_labels))\n",
        "  print(sorted_labels)\n",
        "  print(sorted_labels.shape)\n",
        "  # print('sorted_labels',sorted_labels)\n",
        "  # print('frame_lengths', frame_lengths)\n",
        "  # print('sorted_frequency_lengths',sorted_frequency_lengths)\n",
        "  # print('unpermute_index', unpermute_index)\n",
        "  # packed_X = rnn.pack_padded_sequence(sorted_padded_frames, frame_lengths, enforce_sorted=True, batch_first=True)\n",
        "  # print('\\npacked_X', packed_X)\n",
        "  break"
      ],
      "execution_count": 0,
      "outputs": [
        {
          "output_type": "stream",
          "text": [
            "sorted padded  frames shape :  torch.Size([32, 70, 512])\n",
            "type of :  <class 'torch.Tensor'>\n",
            "tensor([0., 0., 0., 0., 0., 0., 0., 0., 0., 0., 0., 1., 0., 0., 0., 0., 0., 1.,\n",
            "        0., 0., 0., 0., 0., 0., 0., 0., 0., 0., 0., 0., 0., 0.])\n",
            "torch.Size([32])\n"
          ],
          "name": "stdout"
        }
      ]
    },
    {
      "cell_type": "code",
      "metadata": {
        "id": "eBLYJjkPszYS",
        "colab_type": "code",
        "colab": {}
      },
      "source": [
        "class Model(nn.Module):\n",
        "    def __init__(self, in_vocab, out_vocab, hidden_size):\n",
        "        super(Model, self).__init__()\n",
        "        #self.embed = nn.Embedding(in_vocab, embed_size)\n",
        "        # self.lstm = nn.LSTM(in_vocab, hidden_size, bidirectional=True)\n",
        "        self.bn1 = nn.BatchNorm1d(in_vocab)\n",
        "        self.conv1 = nn.Conv1d(in_vocab, hidden_size, 1)\n",
        "        self.bn2 = nn.BatchNorm1d(hidden_size)\n",
        "        # self.tan = nn.tanh()\n",
        "        self.lstm = nn.LSTM(hidden_size,\n",
        "                       hidden_size,\n",
        "                       num_layers=5,\n",
        "                       bidirectional=True,\n",
        "                            batch_first=True)\n",
        "        self.output = nn.Linear(hidden_size * 2, out_vocab)\n",
        "        #self.sig = nn.Sigmoid()\n",
        "        # self.output1 = nn.Linear(hidden_size, out_vocab)\n",
        "    \n",
        "    def forward(self, X, lengths):\n",
        "        #X = self.embed(X)\n",
        "        # X = X.permute(0, 2, 1)\n",
        "        X = X.permute(0,2,1)\n",
        "        X = self.bn1(X)\n",
        "        X = self.conv1(X)\n",
        "        X = self.bn2(X)\n",
        "        X = F.tanh(X)\n",
        "        X = X.permute(0,2,1)\n",
        "        packed_X = rnn.pack_padded_sequence(X, lengths, enforce_sorted=True, batch_first=True)\n",
        "        packed_out = self.lstm(packed_X)[0]\n",
        "        out, out_lens = rnn.pad_packed_sequence(packed_out, batch_first=True)\n",
        "        # Log softmax after output layer is required since`nn.CTCLoss` expects log probabilities.\n",
        "        out = self.output(out)\n",
        "        # out = self.output1(out).log_softmax(2)\n",
        "        #out = self.sig(out)\n",
        "        return out, out_lens"
      ],
      "execution_count": 0,
      "outputs": []
    },
    {
      "cell_type": "code",
      "metadata": {
        "id": "eyYtIN4lBT1A",
        "colab_type": "code",
        "colab": {}
      },
      "source": [
        "CUDA_LAUNCH_BLOCKING=1"
      ],
      "execution_count": 0,
      "outputs": []
    },
    {
      "cell_type": "code",
      "metadata": {
        "id": "bCE4EcC57ZJx",
        "colab_type": "code",
        "outputId": "3386908d-61db-4dd0-9d30-cf6bdec8be8d",
        "colab": {
          "base_uri": "https://localhost:8080/",
          "height": 134
        }
      },
      "source": [
        "model = Model(512,1,512)\n",
        "criterion = nn.BCEWithLogitsLoss()\n",
        "optimizer = optim.Adam(model.parameters(), lr=1e-1, weight_decay=5e-5)\n",
        "# scheduler = optim.lr_scheduler.ReduceLROnPlateau(optimizer, factor = 0.2, patience = 2)\n",
        "device = torch.device(\"cuda\" if cuda else \"cpu\")\n",
        "model.to(device)\n",
        "print(model)"
      ],
      "execution_count": 0,
      "outputs": [
        {
          "output_type": "stream",
          "text": [
            "Model(\n",
            "  (bn1): BatchNorm1d(512, eps=1e-05, momentum=0.1, affine=True, track_running_stats=True)\n",
            "  (conv1): Conv1d(512, 512, kernel_size=(1,), stride=(1,))\n",
            "  (bn2): BatchNorm1d(512, eps=1e-05, momentum=0.1, affine=True, track_running_stats=True)\n",
            "  (lstm): LSTM(512, 512, num_layers=5, batch_first=True, bidirectional=True)\n",
            "  (output): Linear(in_features=1024, out_features=1, bias=True)\n",
            ")\n"
          ],
          "name": "stdout"
        }
      ]
    },
    {
      "cell_type": "code",
      "metadata": {
        "id": "V1B_XGwj8V9a",
        "colab_type": "code",
        "colab": {}
      },
      "source": [
        "def train_epoch(model, train_loader, criterion, optimizer):\n",
        "    model.train()\n",
        "    running_loss = 0.0\n",
        "    start_time = time.time()\n",
        "    count = 0\n",
        "    for batch in train_loader:\n",
        "        sorted_padded_frames, sorted_labels, frame_lengths, unpermute_index = batch\n",
        "        batch_size = sorted_padded_frames.shape[0]\n",
        "        optimizer.zero_grad()   # .backward() accumulates gradients\n",
        "        #pdb.set_trace()\n",
        "        sorted_padded_frames = sorted_padded_frames.to(device)\n",
        "        sorted_labels = sorted_labels.to(device) # all data & model on same device\n",
        "        frame_lengths = frame_lengths.to(device)\n",
        "        outputs, output_len = model(sorted_padded_frames, frame_lengths)\n",
        "        outputs = outputs[:,-1,:].flatten()\n",
        "        #outputs = torch.FloatTensor([i for i in outputs], requires_grad=True)\n",
        "        #outputs = outputs.to(device)\n",
        "        # outputs = outputs.transpose(0,1)\n",
        "        # loss = criterion(outputs, sorted_labels, frame_lengths, sorted_frequency_lengths).sum() / batch_size\n",
        "        loss = criterion(outputs, sorted_labels)\n",
        "        running_loss += loss.item()\n",
        "        # if count % 300 == 0:\n",
        "        #   print(\"Runnning loss \", count, \" : \", running_loss)\n",
        "\n",
        "        loss.backward()\n",
        "        optimizer.step()\n",
        "        # count = count + 1\n",
        "        # torch.cuda.empty_cache()\n",
        "        # del sorted_padded_frames\n",
        "        # del sorted_labels\n",
        "        # del frame_lengths\n",
        "        # del sorted_frequency_lengths\n",
        "        # del loss\n",
        "    \n",
        "    end_time = time.time()\n",
        "    \n",
        "    running_loss /= len(train_loader)\n",
        "    print('Training Loss: ', running_loss, 'Time: ',end_time - start_time, 's')\n",
        "    return running_loss"
      ],
      "execution_count": 0,
      "outputs": []
    },
    {
      "cell_type": "code",
      "metadata": {
        "id": "96DWWYwt1_1Z",
        "colab_type": "code",
        "colab": {}
      },
      "source": [
        "def val_epoch(model, val_loader, criterion):\n",
        "    with torch.no_grad():\n",
        "        model.eval()\n",
        "\n",
        "        running_loss = 0.0\n",
        "        total_predictions = 0.0\n",
        "        correct_predictions = 0.0\n",
        "\n",
        "        for batch in val_loader:   \n",
        "            sorted_padded_frames, sorted_labels, frame_lengths, seq_order = batch\n",
        "            batch_size = sorted_padded_frames.shape[0]\n",
        "            \n",
        "            sorted_padded_frames = sorted_padded_frames.to(device)\n",
        "            sorted_labels = sorted_labels.to(device) # all data & model on same device\n",
        "            frame_lengths = frame_lengths.to(device)\n",
        "            outputs, output_len = model(sorted_padded_frames, frame_lengths)\n",
        "            outputs = outputs[:,-1,:].flatten()\n",
        "            # outputs = outputs.transpose(0,1)\n",
        "            loss = criterion(outputs, sorted_labels)\n",
        "            running_loss += loss.item()\n",
        "\n",
        "            total_predictions += outputs.size(0)\n",
        "            pred = outputs.cpu().detach()\n",
        "            sorted_labels = sorted_labels.cpu().detach()\n",
        "            pred[pred >= 0.5] = 1\n",
        "            pred[pred < 0.5] = 0\n",
        "            correct_predictions += (pred == sorted_labels).sum().item()\n",
        "            \n",
        "        running_loss /= len(val_loader)\n",
        "        acc = (correct_predictions/total_predictions)*100.0\n",
        "        print('Validation Loss : ', running_loss)\n",
        "        print('Validation Accuracy : ', acc)\n",
        "        return running_loss, acc"
      ],
      "execution_count": 0,
      "outputs": []
    },
    {
      "cell_type": "code",
      "metadata": {
        "id": "-mB1NDL0_BlG",
        "colab_type": "code",
        "outputId": "e7cb84b5-2f41-484a-e2cd-e8322291d6cd",
        "colab": {
          "base_uri": "https://localhost:8080/",
          "height": 890
        }
      },
      "source": [
        "n_epochs = 10\n",
        "Train_loss = []\n",
        "Val_loss = []\n",
        "Val_dis = []\n",
        "\n",
        "for i in range(n_epochs):\n",
        "    print('epoch number : ', i+1)\n",
        "    train_loss = train_epoch(model, train_loader, criterion, optimizer)\n",
        "    val_loss, val_dis = val_epoch(model, val_loader, criterion)\n",
        "    # scheduler.step(val_loss)\n",
        "    # Train_loss.append(train_loss)\n",
        "    # Val_loss.append(val_loss)\n",
        "    # Val_dis.append(val_dis)\n",
        "    print('='*20)"
      ],
      "execution_count": 0,
      "outputs": [
        {
          "output_type": "stream",
          "text": [
            "epoch number :  1\n"
          ],
          "name": "stdout"
        },
        {
          "output_type": "stream",
          "text": [
            "/usr/local/lib/python3.6/dist-packages/torch/nn/functional.py:1340: UserWarning: nn.functional.tanh is deprecated. Use torch.tanh instead.\n",
            "  warnings.warn(\"nn.functional.tanh is deprecated. Use torch.tanh instead.\")\n"
          ],
          "name": "stderr"
        },
        {
          "output_type": "stream",
          "text": [
            "Training Loss:  0.320901925626554 Time:  4.711660385131836 s\n",
            "Validation Loss :  0.290884125046432\n",
            "Validation Accuracy :  93.13725490196079\n",
            "====================\n",
            "epoch number :  2\n",
            "Training Loss:  0.3173127143986915 Time:  4.660306453704834 s\n",
            "Validation Loss :  0.3780229666735977\n",
            "Validation Accuracy :  93.13725490196079\n",
            "====================\n",
            "epoch number :  3\n",
            "Training Loss:  0.6901890700192828 Time:  4.67938494682312 s\n",
            "Validation Loss :  0.5266073099337518\n",
            "Validation Accuracy :  93.13725490196079\n",
            "====================\n",
            "epoch number :  4\n",
            "Training Loss:  0.47870649956166744 Time:  4.67965292930603 s\n",
            "Validation Loss :  0.43458499293774366\n",
            "Validation Accuracy :  93.13725490196079\n",
            "====================\n",
            "epoch number :  5\n",
            "Training Loss:  0.44493580540936245 Time:  4.655228853225708 s\n",
            "Validation Loss :  0.339010292198509\n",
            "Validation Accuracy :  93.13725490196079\n",
            "====================\n",
            "epoch number :  6\n",
            "Training Loss:  0.45219610141296135 Time:  4.674572944641113 s\n",
            "Validation Loss :  0.32067294884473085\n",
            "Validation Accuracy :  93.13725490196079\n",
            "====================\n",
            "epoch number :  7\n",
            "Training Loss:  0.6850086599588394 Time:  4.66243314743042 s\n",
            "Validation Loss :  0.3322686846368015\n",
            "Validation Accuracy :  93.13725490196079\n",
            "====================\n",
            "epoch number :  8\n",
            "Training Loss:  0.3238897941222316 Time:  4.670790195465088 s\n",
            "Validation Loss :  0.34993539238348603\n",
            "Validation Accuracy :  93.13725490196079\n",
            "====================\n",
            "epoch number :  9\n",
            "Training Loss:  0.7031667078600118 Time:  4.620790958404541 s\n",
            "Validation Loss :  0.2843050011433661\n",
            "Validation Accuracy :  93.13725490196079\n",
            "====================\n",
            "epoch number :  10\n",
            "Training Loss:  0.3825909917880046 Time:  4.664654016494751 s\n",
            "Validation Loss :  0.32740152231417596\n",
            "Validation Accuracy :  93.13725490196079\n",
            "====================\n"
          ],
          "name": "stdout"
        }
      ]
    }
  ]
}